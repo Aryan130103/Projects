{
 "cells": [
  {
   "cell_type": "code",
   "execution_count": 7,
   "id": "69f5bb28-d2a9-4f42-a8da-6734835326bc",
   "metadata": {},
   "outputs": [],
   "source": [
    "import Fin as f"
   ]
  },
  {
   "cell_type": "code",
   "execution_count": 9,
   "id": "760a3a82-eb52-4728-82e5-926b6940be39",
   "metadata": {},
   "outputs": [
    {
     "name": "stdout",
     "output_type": "stream",
     "text": [
      "['__builtins__', '__cached__', '__doc__', '__file__', '__loader__', '__name__', '__package__', '__spec__', 'eff', 'effi', 'infinite_fin', 'insulated_fin', 'math', 'rect']\n"
     ]
    }
   ],
   "source": [
    "print(dir(f))"
   ]
  },
  {
   "cell_type": "code",
   "execution_count": 13,
   "id": "50f9e43c-137b-4115-8eb8-1a6d376799ea",
   "metadata": {},
   "outputs": [
    {
     "name": "stdout",
     "output_type": "stream",
     "text": [
      "This is a test program showing how we can solve problems of fins using a custom library in python.\n",
      "\n",
      "\n",
      "Enter the basic data to calculate temperature difference and rate of heat transfer in different fin cases:\n",
      "\n",
      "\n",
      "\n"
     ]
    },
    {
     "name": "stdin",
     "output_type": "stream",
     "text": [
      "First Constant for rectangular fin:  4\n",
      "Second Constant for rectangular fin:  5\n",
      "Mathematical ratio:  5\n",
      "Distance from base of fin:  8\n",
      "Total length of fin:  10\n",
      "Temperature difference between base of fin and the ambient:  52\n",
      "Convective Heat Transfer Co-efficient:  5\n",
      "Perimeter of the fin:  54\n",
      "Thermal Conductivity:  54\n",
      "Cross-Sectional Area of the Fin:  40\n"
     ]
    },
    {
     "name": "stdout",
     "output_type": "stream",
     "text": [
      "\n",
      "\n",
      "\n",
      "1 -> Rectangular Fin.\n",
      "2 -> Infinite Long Fin.\n",
      "3 -> Insulated Long Fin.\n",
      "4 -> Efficiency Of Fin.\n",
      "5 -> Effectiveness Of Fin.\n",
      "\n",
      "\n",
      "\n"
     ]
    },
    {
     "name": "stdin",
     "output_type": "stream",
     "text": [
      "Enter Choice(1/2/3/4/5):  6\n"
     ]
    },
    {
     "name": "stdout",
     "output_type": "stream",
     "text": [
      "Wrong Choice!\n"
     ]
    },
    {
     "name": "stdin",
     "output_type": "stream",
     "text": [
      "Enter Choice(1/2/3/4/5):  5\n"
     ]
    },
    {
     "name": "stdout",
     "output_type": "stream",
     "text": [
      "The effectiveness value is:  54.0\n",
      "The fin is effective.\n",
      "\n",
      "\n",
      "\n"
     ]
    }
   ],
   "source": [
    "print(\"This is a test program showing how we can solve problems of fins using a custom library in python.\")\n",
    "print(\"\\n\")\n",
    "\n",
    "print(\"Enter the basic data to calculate temperature difference and rate of heat transfer in different fin cases:\")\n",
    "print(\"\\n\"*2)\n",
    "#Basic Data \n",
    "C1=int(input(\"First Constant for rectangular fin: \"))\n",
    "C2=int(input(\"Second Constant for rectangular fin: \"))\n",
    "m=int(input(\"Mathematical ratio: \"))\n",
    "x=int(input(\"Distance from base of fin: \"))\n",
    "L=int(input(\"Total length of fin: \"))\n",
    "theta0=int(input(\"Temperature difference between base of fin and the ambient: \"))\n",
    "h=int(input(\"Convective Heat Transfer Co-efficient: \"))\n",
    "p=int(input(\"Perimeter of the fin: \"))\n",
    "k=int(input(\"Thermal Conductivity: \"))\n",
    "Ac=int(input(\"Cross-Sectional Area of the Fin: \"))\n",
    "print(\"\\n\"*2)\n",
    "\n",
    "print(\"1 -> Rectangular Fin.\")\n",
    "print(\"2 -> Infinite Long Fin.\")\n",
    "print(\"3 -> Insulated Long Fin.\")\n",
    "print(\"4 -> Efficiency Of Fin.\")\n",
    "print(\"5 -> Effectiveness Of Fin.\")\n",
    "print(\"\\n\"*2)\n",
    "\n",
    "\n",
    "def choice():\n",
    "  ch=int(input(\"Enter Choice(1/2/3/4/5): \"))\n",
    "  if (ch==1):\n",
    "    f.rect(C1,C2,m,x)\n",
    "    print(\"\\n\"*2)\n",
    "  elif (ch==2):\n",
    "    f.infinite_fin(theta0,m,x,h,p,k,Ac)\n",
    "    print(\"\\n\"*2)\n",
    "  elif (ch==3):\n",
    "    f.insulated_fin(theta0,m,x,h,p,k,Ac,L)\n",
    "    print(\"\\n\"*2)\n",
    "  elif (ch==4):\n",
    "    f.effi(m,L)\n",
    "    print(\"\\n\"*2)\n",
    "  elif (ch==5):\n",
    "    f.eff(m,k,h)\n",
    "    print(\"\\n\"*2)\n",
    "  else:\n",
    "    print(\"Wrong Choice!\")\n",
    "    choice()\n",
    "\n",
    "choice()\n",
    "\n",
    "\n"
   ]
  },
  {
   "cell_type": "code",
   "execution_count": null,
   "id": "ffc7bc23-de08-46d9-98ac-43e9ecbfc24d",
   "metadata": {},
   "outputs": [],
   "source": []
  }
 ],
 "metadata": {
  "kernelspec": {
   "display_name": "Python 3 (ipykernel)",
   "language": "python",
   "name": "python3"
  },
  "language_info": {
   "codemirror_mode": {
    "name": "ipython",
    "version": 3
   },
   "file_extension": ".py",
   "mimetype": "text/x-python",
   "name": "python",
   "nbconvert_exporter": "python",
   "pygments_lexer": "ipython3",
   "version": "3.12.7"
  }
 },
 "nbformat": 4,
 "nbformat_minor": 5
}
